{
 "cells": [
  {
   "cell_type": "markdown",
   "metadata": {
    "slideshow": {
     "slide_type": "slide"
    }
   },
   "source": [
    "# SI 330: Data Manipulation \n",
    "## 01 - Introduction\n",
    "### Dr. Chris Teplovs, School of Information, University of Michigan\n",
    "<small><a rel=\"license\" href=\"http://creativecommons.org/licenses/by-nc-sa/4.0/\"><img alt=\"Creative Commons License\" style=\"border-width:0\" src=\"https://i.creativecommons.org/l/by-nc-sa/4.0/88x31.png\" /></a>This work is licensed under a <a rel=\"license\" href=\"http://creativecommons.org/licenses/by-nc-sa/4.0/\">Creative Commons Attribution-NonCommercial-ShareAlike 4.0 International License</a>."
   ]
  },
  {
   "cell_type": "markdown",
   "metadata": {
    "slideshow": {
     "slide_type": "slide"
    }
   },
   "source": [
    "# Overview of Today\n",
    "* Teaching team introductions\n",
    "* Why this course?\n",
    "* What you’ll learn\n",
    "* Syllabus walk-through\n",
    "* Introduction to Data Manipulation\n",
    "* Introduction to Anaconda and Jupyter Notebooks"
   ]
  },
  {
   "cell_type": "markdown",
   "metadata": {
    "slideshow": {
     "slide_type": "slide"
    }
   },
   "source": [
    "# About your instructor: Dr. Chris Teplovs\n",
    "* Originally from Canada (and currently  ",
    "living there)\n",
    "* Ph.D. in Curriculum, Teaching and Learning  ",
    "from the University of Toronto\n",
    "* Postdoctoral Fellow at Copenhagen Business School\n",
    "* Visiting Associate Research Professor, École Normale Supérieure de Cachan, France\n",
    "* Lead Developer, Office of Academic Innovation\n",
    "* Lecturer & Research Scientist, School of Information"
   ]
  },
  {
   "cell_type": "markdown",
   "metadata": {
    "slideshow": {
     "slide_type": "slide"
    }
   },
   "source": [
    "# About the teaching team\n",
    "* GSI: Johan Mosquera\n",
    "* IA: Frankie Antenucci"
   ]
  },
  {
   "cell_type": "markdown",
   "metadata": {
    "slideshow": {
     "slide_type": "slide"
    }
   },
   "source": [
    "# Icebreaker: Two truths and a lie\n",
    "1. Arrange yourselves into groups of about 5 people.  \n",
    "1. Think of three statements about yourself. Two must be true statements, and one must be false. \n",
    "1. For each person, you share the three statements (in any order) to the group. \n",
    "1. The goal of the icebreaker game is to determine which statement is false. \n"
   ]
  },
  {
   "cell_type": "markdown",
   "metadata": {
    "slideshow": {
     "slide_type": "slide"
    }
   },
   "source": [
    "# Why this course?\n",
    "\n",
    "* About 80% of initial work on a data science project involves **data manipulation**\n",
    " * accessing, converting, transforming, cleaning, filtering, aggregating, grouping, summarizing\n",
    "* Data analysis is tightly coupled with data manipulation, especially when iterating"
   ]
  },
  {
   "cell_type": "markdown",
   "metadata": {
    "slideshow": {
     "slide_type": "slide"
    }
   },
   "source": [
    "# Skills you'll learn in this course\n",
    "\n",
    "* How to get / read / gather / fetch / crawl data\n",
    "* How to convert data to and from important formats\n",
    "* Basic computation and manipulation of the data, including filtering and sorting\n",
    "* Initial methods to explore and visualize to gain insights\n",
    "* How to apply Python coding and packages to solve the above problems"
   ]
  },
  {
   "cell_type": "markdown",
   "metadata": {
    "slideshow": {
     "slide_type": "slide"
    }
   },
   "source": [
    "# Tools you'll learn in this course\n",
    "\n",
    "* Python core functionality\n",
    "* Jupyter notebooks\n",
    "* Python packages\n",
    " * pandas, matplotlib, re, NLTK, pyspark\n",
    "* Amazon Web Service (AWS)\n",
    " * Simple Storage Service (S3)\n",
    " * Lambda\n",
    " * API Gateway\n",
    "* Spark"
   ]
  },
  {
   "cell_type": "markdown",
   "metadata": {
    "slideshow": {
     "slide_type": "slide"
    }
   },
   "source": [
    "# Course plan: a smorgasbord of data manipulation techniques\n",
    "![](assets/smorgasbord.png)"
   ]
  },
  {
   "cell_type": "markdown",
   "metadata": {
    "slideshow": {
     "slide_type": "slide"
    }
   },
   "source": [
    "# Syllabus walk-through\n",
    "\n",
    "[Canvas](https://umich.instructure.com/courses/267556)\n",
    "\n",
    "[Syllabus](https://docs.google.com/document/d/1PcXeEiuVn_0EKH0kn6rWadJAfRPRW1PRB9jyiN52XF8/edit)\n",
    "\n"
   ]
  },
  {
   "cell_type": "markdown",
   "metadata": {
    "slideshow": {
     "slide_type": "slide"
    }
   },
   "source": [
    "# Class format\n",
    "\n",
    "* meeting face-to-face twice a week\n",
    "* series of 20 in-class notebooks\n",
    "* about 5 \"segments\" per class"
   ]
  },
  {
   "cell_type": "markdown",
   "metadata": {
    "slideshow": {
     "slide_type": "slide"
    }
   },
   "source": [
    "# Late policy\n",
    "* You have 3 penalty-free late days\n",
    "* One late day = one 24-hour period after due date\n",
    "* No fractional late days: all or nothing\n",
    "* 25% penalty per late day after late days used up\n",
    "* You don't need to explain late days\n",
    "* We track them for you\n",
    "* Submit late assignments via Canvas (like usual)"
   ]
  },
  {
   "cell_type": "markdown",
   "metadata": {
    "slideshow": {
     "slide_type": "slide"
    }
   },
   "source": [
    "# Original work policy\n",
    "Unless otherwise specified in an assignment all submitted work must be your own, original work. Any excerpts, statements, or phrases from the work of others must be clearly identified as a quotation, and a proper citation provided. Any violation of the School’s policy on Academic and Professional Integrity (stated in the Master’s and Doctoral Student Handbooks) will result in serious penalties, which might range from failing an assign­ment, to failing a course, to being expelled from the program. Violations of academic and professional integrity will be reported to UMSI Student Affairs. Consequences impacting assignment or course grades are determined by the faculty instructor; additional sanctions may be imposed by the assistant dean for academic and student affairs. "
   ]
  },
  {
   "cell_type": "markdown",
   "metadata": {
    "slideshow": {
     "slide_type": "slide"
    }
   },
   "source": [
    "# Accommodations for students with disabilities\n",
    "If you think you need an accommodation for a disability, please let me know at your earliest convenience. Some aspects of this course, the as­signments, the in-class activities, and the way we teach may be modified to facilitate your participation and progress. As soon as you make me aware of your needs, we can work with the Oﬃce of Services for Students with Disabilities (SSD) to help us determine appropriate accommoda­tions. SSD (734-763-3000; ssd.umich.edu/) typically rec­ommends accommodations through a Verified Individualized Services and Accommodations (VISA) form. I will treat any information that you provide in as confidential a manner as possible. "
   ]
  },
  {
   "cell_type": "markdown",
   "metadata": {
    "slideshow": {
     "slide_type": "slide"
    }
   },
   "source": [
    "# Student mental health and wellbeing\n",
    "The University of Michigan is committed to advancing the mental health and wellbeing of its students, while acknowledging that a variety of issues, such as strained relationships, increased anxiety, alcohol/drug problems, and depression, directly impacts students' academic performance.\n",
    "If you or someone you know is feeling overwhelmed, depressed, and/or in need of support, services are available. For help, contact Counseling and Psychological Services (CAPS) at (734) 764-8312 and https://caps.umich.edu/ during and after hours, on weekends and holidays or through its counselors physically located in schools on both North and Central Campus. You may also consult University Health Service (UHS) at (732) 764-8320 and https://www.uhs.umich.edu/mentalhealthsvcs, or for alcohol or drug concerns, see www.uhs.umich.edu/aodresources."
   ]
  },
  {
   "cell_type": "markdown",
   "metadata": {
    "slideshow": {
     "slide_type": "slide"
    }
   },
   "source": [
    "# Questions?"
   ]
  },
  {
   "cell_type": "markdown",
   "metadata": {
    "slideshow": {
     "slide_type": "slide"
    }
   },
   "source": [
    "# Getting set up\n",
    "* [Canvas](https://umich.instructure.com/courses/267556)\n",
    "* [Slack](https://si330wn2019.slack.com)\n",
    "* Jupyter ([Anaconda](https://www.anaconda.com))"
   ]
  },
  {
   "cell_type": "markdown",
   "metadata": {
    "slideshow": {
     "slide_type": "subslide"
    }
   },
   "source": [
    "## Canvas\n",
    "* institutional learning management system\n",
    "* you'll find assignments and grades here"
   ]
  },
  {
   "cell_type": "markdown",
   "metadata": {
    "slideshow": {
     "slide_type": "subslide"
    }
   },
   "source": [
    "## Slack\n",
    "\n",
    "* group communication tool\n",
    "* primary communication tool in this course (instead of email)"
   ]
  },
  {
   "cell_type": "markdown",
   "metadata": {
    "slideshow": {
     "slide_type": "subslide"
    }
   },
   "source": [
    "## Jupyter and JupyterLab\n",
    "* What is Jupyter?\n",
    "> The Jupyter Notebook is an open-source web application that allows you to create and share documents that contain live code, equations, visualizations and narrative text.\n",
    "* Why Jupyter?\n",
    " * Interactive, reproducible results, literate programming, REPL (read-eval-print loop)\n",
    " * great for data exploration\n",
    "* Why JupyterLab?\n",
    " * next-generation UI for Jupyter"
   ]
  },
  {
   "cell_type": "markdown",
   "metadata": {
    "slideshow": {
     "slide_type": "slide"
    }
   },
   "source": [
    "## Jupyter and Python\n",
    "\n",
    "* in the beginning: Python\n",
    "* later: IPython\n",
    "* still later: Jupyter notebooks\n",
    " * not just python (R, Julia, etc.)\n",
    "* different from scripting\n",
    "* great for data analysis\n",
    "* not great for software engineering (see Joel Grus' [\"I don't like notebooks\"](https://docs.google.com/presentation/d/1n2RlMdmv1p25Xy5thJUhkKGvjtV-dkAIsUXP-AL4ffI/edit#slide=id.g362da58057_0_1) presentation)"
   ]
  },
  {
   "cell_type": "markdown",
   "metadata": {
    "slideshow": {
     "slide_type": "slide"
    }
   },
   "source": [
    "## Next steps\n",
    "1. Follow the invitation link to Slack (see Canvas Announcements)\n",
    "1. Install [anaconda](https://www.anaconda.com/download/) (if you haven't already)\n",
    "1. Create a folder for your work in this class (e.g. si330)\n",
    "2. Start JupyterLab, either from the command line in Terminal (Mac) or PowerShell (Windows) or using Anaconda-Navigator.\n",
    "3. Download Day1.zip from Canvas -> Files, unzip it, move it to your 330 folder and open it in **JupyterLab**\n",
    "4. We'll start working the lab together, share some insights, submit your first notebook for the class, and talk about prepping for next class\n"
   ]
  },
  {
   "cell_type": "markdown",
   "metadata": {
    "slideshow": {
     "slide_type": "slide"
    }
   },
   "source": [
    "## Learning Objectives\n",
    "* install and run JupyterLab\n",
    "* ensure you can use needed libraries\n",
    "* be able to run a class notebook\n",
    "* write your first code in this class\n",
    "* practice submitting an assignment"
   ]
  },
  {
   "cell_type": "markdown",
   "metadata": {
    "knowledge_building": {
     "cell_groupid": "g1",
     "cell_id": "1",
     "cell_type": "reflection_question"
    },
    "slideshow": {
     "slide_type": "slide"
    }
   },
   "source": [
    "### <font color=\"magenta\">Q1: (2 points) What are you looking forward to learning in this class?  "
   ]
  },
  {
   "cell_type": "markdown",
   "metadata": {
    "knowledge_building": {
     "cell_groupid": "g1",
     "cell_id": "2",
     "cell_type": "reflection_answer"
    }
   },
   "source": [
    "Looking forward to furthering my knowledge in data analytics, and hopefully applying it to an upcoming internship in the future. The cirriculum looks very promising and useful for professional use going forward."
   ]
  },
  {
   "cell_type": "markdown",
   "metadata": {
    "knowledge_building": {
     "cell_groupid": "g2",
     "cell_id": "3",
     "cell_type": "reflection_question"
    },
    "slideshow": {
     "slide_type": "slide"
    }
   },
   "source": [
    "### <font color=\"magenta\">Q2: (2 points) What are you most concerned about in this class?"
   ]
  },
  {
   "cell_type": "markdown",
   "metadata": {
    "knowledge_building": {
     "cell_groupid": "g2",
     "cell_id": "4",
     "cell_type": "reflection_answer"
    }
   },
   "source": [
    "Concerned about the potential workload of the course. Coding can be time consuming. Didn't have much of a problem in 206 with time, but with the content advancing, I wonder how  that will vary. "
   ]
  },
  {
   "cell_type": "markdown",
   "metadata": {
    "slideshow": {
     "slide_type": "slide"
    }
   },
   "source": [
    "### <font color=\"magenta\"> Q3: (3 points) Run the following cells (hint: use Shift-Enter)"
   ]
  },
  {
   "cell_type": "code",
   "execution_count": 1,
   "metadata": {
    "slideshow": {
     "slide_type": "-"
    }
   },
   "outputs": [],
   "source": [
    "import numpy as np"
   ]
  },
  {
   "cell_type": "code",
   "execution_count": 2,
   "metadata": {},
   "outputs": [],
   "source": [
    "# NOTE: If the above cell gives you an error, uncomment the following line\n",
    "#       and run this cell (Shift-Enter).  It will take several minutes to finish.\n",
    "#!conda install -y numpy pandas matplotlib"
   ]
  },
  {
   "cell_type": "code",
   "execution_count": 3,
   "metadata": {},
   "outputs": [],
   "source": [
    "import pandas as pd"
   ]
  },
  {
   "cell_type": "code",
   "execution_count": 4,
   "metadata": {},
   "outputs": [],
   "source": [
    "import matplotlib.pyplot as plt"
   ]
  },
  {
   "cell_type": "code",
   "execution_count": 5,
   "metadata": {},
   "outputs": [],
   "source": [
    "df = pd.DataFrame({\n",
    "    'name':['john','vj','xin','amanda','sungjin','lisa','jose'],\n",
    "    'age':[23,78,22,19,45,33,20],\n",
    "    'num_bikes':[1,2,0,0,3,2,0],\n",
    "    'num_pets':[0,1,0,3,2,2,3]\n",
    "})"
   ]
  },
  {
   "cell_type": "code",
   "execution_count": 6,
   "metadata": {},
   "outputs": [],
   "source": [
    "%matplotlib inline"
   ]
  },
  {
   "cell_type": "code",
   "execution_count": 7,
   "metadata": {},
   "outputs": [
    {
     "data": {
      "image/png": "[encoded data removed]",
      "text/plain": [
       "<Figure size 432x288 with 1 Axes>"
      ]
     },
     "metadata": {},
     "output_type": "display_data"
    }
   ],
   "source": [
    "# a scatter plot comparing num_children and num_pets\n",
    "df.plot(kind='scatter',x='num_bikes',y='num_pets',color='red')\n",
    "plt.show()"
   ]
  },
  {
   "cell_type": "markdown",
   "metadata": {
    "knowledge_building": {
     "cell_groupid": "g3",
     "cell_id": "5",
     "cell_type": "reflection_question"
    },
    "slideshow": {
     "slide_type": "slide"
    }
   },
   "source": [
    "### <font color=\"magenta\">Q4: (3 points) What does the above plot tell you?"
   ]
  },
  {
   "cell_type": "markdown",
   "metadata": {
    "knowledge_building": {
     "cell_groupid": "g3",
     "cell_id": "6",
     "cell_type": "reflection_answer"
    }
   },
   "source": [
    "Shows number of bikes in relation to number of pets. This is a scatter plot with bike on x and pets on y. The dots are colored blue, in this case. Seems the plot doesn't have much of a pattern or correlation. Data points seem to be all over. The dataframe itself also holds age and name in relation to bike + pets.\n"
   ]
  },
  {
   "cell_type": "markdown",
   "metadata": {
    "slideshow": {
     "slide_type": "slide"
    }
   },
   "source": [
    "## End of notebook\n",
    "## Remember to submit this notebook to Canvas in both HTML and ipynb formats."
   ]
  },
  {
   "cell_type": "code",
   "execution_count": null,
   "metadata": {},
   "outputs": [],
   "source": []
  },
  {
   "cell_type": "code",
   "execution_count": null,
   "metadata": {},
   "outputs": [],
   "source": []
  },
  {
   "cell_type": "code",
   "execution_count": null,
   "metadata": {},
   "outputs": [],
   "source": []
  }
 ],
 "metadata": {
  "celltoolbar": "Slideshow",
  "kernelspec": {
   "display_name": "Python 3",
   "language": "python",
   "name": "python3"
  },
  "language_info": {
   "codemirror_mode": {
    "name": "ipython",
    "version": 3
   },
   "file_extension": ".py",
   "mimetype": "text/x-python",
   "name": "python",
   "nbconvert_exporter": "python",
   "pygments_lexer": "ipython3",
   "version": "3.6.5"
  },
  "livereveal": {
   "theme": "sky"
  }
 },
 "nbformat": 4,
 "nbformat_minor": 2
}
